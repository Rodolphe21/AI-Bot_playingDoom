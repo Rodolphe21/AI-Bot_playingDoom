{
 "cells": [
  {
   "cell_type": "markdown",
   "metadata": {},
   "source": [
    "Important note to the reader willing to run the code below. After having installed ViZDoom github.com/mwydmuch/ViZDoom/blob/master/doc/Building.md and cloned the following https://github.com/mwydmuch/ViZDoom, execute (for Linux):\n",
    "\n",
    "> cd ../ViZDoom/examples\n",
    "\n",
    "> jupyter notebook\n",
    "\n",
    "then start this notebook..."
   ]
  },
  {
   "cell_type": "markdown",
   "metadata": {},
   "source": [
    "In this capstone project we want to investigate various Q-Learning techniques to train an agent to play autonomously the game Doom in the ViZDoom environment\n",
    "\n",
    "In this second notebook, we implement a basic DQN \n",
    "\n",
    "The following code has been adapted from github.com/mwydmuch/ViZDoom/tree/master/examples/python, specifically the file /ViZDoom/examples/python/basic.py, whose credit goes to the developers of the ViZDoom platform, an AI research platform for reinforcement learning from raw visual information: Michal Kempka, Grzegorz Runc, Jakub Toczek & Marek Wydmuch.\n",
    "\n",
    "Main adaptations: \n",
    "- creation of global arrays to capture loss for each learning step and the loss mean for each epoch\n",
    "- Epsilon decay function now of the form exp(-k*epoch) with k between 0,01 and 1\n",
    "- matplolib to visualize training/testing scores and epoch-averaged loss\n"
   ]
  },
  {
   "cell_type": "markdown",
   "metadata": {},
   "source": [
    "# 2. IMPLEMENTATION OF A BASIC DEEP Q-NETWORK"
   ]
  },
  {
   "cell_type": "code",
   "execution_count": 1,
   "metadata": {},
   "outputs": [
    {
     "name": "stdout",
     "output_type": "stream",
     "text": [
      "ok\n"
     ]
    }
   ],
   "source": [
    "# setting up the notebook's environment\n",
    "\n",
    "from __future__ import division\n",
    "from __future__ import print_function\n",
    "from vizdoom import *                       # this imports ViZDoom's Python API\n",
    "import itertools as it\n",
    "from random import sample, randint, random\n",
    "from time import time, sleep\n",
    "import numpy as np\n",
    "import skimage.color, skimage.transform     # important to preprocess images received from the game\n",
    "from random import choice                   # for random actions (exploration/exploitation)\n",
    "import tensorflow as tf                     # the NN implementation will use TensorFlow\n",
    "from tqdm import trange\n",
    "import matplotlib.pyplot as plt             # for visualization\n",
    "import math\n",
    "import matplotlib.image as mpimg\n",
    "%matplotlib inline\n",
    "\n",
    "print(\"ok\")\n"
   ]
  },
  {
   "cell_type": "code",
   "execution_count": 2,
   "metadata": {},
   "outputs": [
    {
     "name": "stdout",
     "output_type": "stream",
     "text": [
      "done\n"
     ]
    }
   ],
   "source": [
    "# global parameters\n",
    "\n",
    "learning_rate = 0.00025                  # this is the learning_rate for the tensor flow optimizer\n",
    "discount_factor = 0.99 #0.99             # this is the gamma factor for the Bellman equation\n",
    "\n",
    "epochs = 40\n",
    "learning_steps_per_epoch = 2000 #number of learning steps per epoch / over which training will take place\n",
    "replay_memory_size = 1000       # this is the size of the cyclic object storing the transitions\n",
    "\n",
    "batch_size = 64     # is the size of the batch of transitions the function learn_from_memory() \n",
    "                    # collects and feeds into the neural network for learning purposes\n",
    "\n",
    "test_episodes_per_epoch = 100   # Number of episodes we run during one training epoch\n",
    "\n",
    "resolution = (30, 45)    # Resolution of the images (=the state s(t)) the agent gets from the env\n",
    "episodes_to_watch = 10   # visual testing/watching at the end of training/testing\n",
    "\n",
    "frame_repeat = 12                        # used to smooth watching, game.advance_action() routine\n",
    "\n",
    "model_savefile = \"/tmp/model.ckpt\"       # where the weights/biases of the best model will be stored\n",
    "save_model = True                        # flag: enabled to keep the best model\n",
    "load_model = False                       # flag: disabled because we don't load a model\n",
    "skip_learning = False                    # flag: enabled because we want the model to learn\n",
    "\n",
    "# Configuration file path\n",
    "\n",
    "# config_file_path = \"../../scenarios/basic.cfg\"             # Scenario \"Basic\"\n",
    "config_file_path = \"../../scenarios/health_gathering.cfg\"    # Scenario \"Health gathering supreme\"\n",
    "# config_file_path = \"../../scenarios/deadly_corridor.cfg\"   # Scenario \"Deadly corridor\"\n",
    "\n",
    "print(\"done\")"
   ]
  },
  {
   "cell_type": "code",
   "execution_count": 10,
   "metadata": {},
   "outputs": [
    {
     "name": "stdout",
     "output_type": "stream",
     "text": [
      "done\n"
     ]
    }
   ],
   "source": [
    "# global array that will collect the training & testing results\n",
    "scoring_array = np.zeros((epochs,3), dtype = float)  # structure = [epoch, training_mean, testing_mean]\n",
    "\n",
    "# we create global arrays to capture the loss values of each learning steps or each epoch\n",
    "for i in range(epochs):\n",
    "    i += 1\n",
    "    globals()['loss_epoch_'+str(i)] = np.zeros((learning_steps_per_epoch,2), dtype = float)\n",
    "\n",
    "print(\"done\")"
   ]
  },
  {
   "cell_type": "code",
   "execution_count": 4,
   "metadata": {},
   "outputs": [
    {
     "name": "stdout",
     "output_type": "stream",
     "text": [
      "ok\n"
     ]
    }
   ],
   "source": [
    "###########################################################################################\n",
    "# preprocess (convenience) function                                                       #\n",
    "###########################################################################################\n",
    "# Converts and down-samples the input image according to the resolution                   #\n",
    "#                                                                                         #\n",
    "#  in                                                                                     #\n",
    "#     img: the frames of the game, \"game.get_state().screen_buffer\"                       #\n",
    "#     resolution: this is the global variable \"resolution\"                                #\n",
    "#  out                                                                                    #\n",
    "#     img: the converted and down-sampled image                                           #\n",
    "#                                                                                         #\n",
    "###########################################################################################\n",
    "def preprocess(img):\n",
    "    img = skimage.transform.resize(img, resolution)\n",
    "    img = img.astype(np.float32)\n",
    "    return img\n",
    "\n",
    "\n",
    "###########################################################################################\n",
    "# ReplayMemory Class                                                                      #\n",
    "###########################################################################################\n",
    "# Definition of the ReplayMemory Class and the corresponding child functions              #\n",
    "# the object memory is created later, a cyclic memory storing transitions                 #\n",
    "#                                                                                         #\n",
    "#  in                                                                                     #\n",
    "#     capacity: the size of this memory, global variable replay_memory_size               #\n",
    "#     resolution: global variable resolution                                              #\n",
    "#                                                                                         #\n",
    "#  important note: transitions are structured around {s1, s2, a, isterminal, r}           #\n",
    "#     - s1 is the state at time \"t\"                                                       #\n",
    "#     - s2 is the state at time \"t+1\"                                                     #\n",
    "#     - a is the action that has led from s1 to s2                                        #\n",
    "#     - isterminal is boolean to check whether we have reached the max replay_memory_size #\n",
    "#     - r is the reward associated to the s1->s2 transition                               # \n",
    "#                                                                                         #\n",
    "#  out (functions provided to the object)                                                 #\n",
    "#     \"add_transition\" = routine to increase the memory by one transition                 #\n",
    "#          uses \"self.pos\" and \"self.size\" as pointers in the memory                      #\n",
    "#     \"get_sample\" = routine to sample a number of transitions from the table             #\n",
    "#                                                                                         #\n",
    "#  2nd important note: Memory replay stores ALL transitions {s1, a ,s2 ,isterminal , r}   #\n",
    "#                   for all “learning_steps_per_epoch” and for all “epochs” via the       #\n",
    "#                   routine memory.add_transition() called by perform_learning_step().    # \n",
    "#                   The memory is cyclic and old transitions get overwritten              #\n",
    "#                   as soon as the maximum memory size is reached                         # \n",
    "#                                                                                         #\n",
    "###########################################################################################\n",
    "class ReplayMemory:\n",
    "    def __init__(self, capacity):\n",
    "        channels = 1\n",
    "        state_shape = (capacity, resolution[0], resolution[1], channels) # state = image\n",
    "        self.s1 = np.zeros(state_shape, dtype=np.float32)      \n",
    "        self.s2 = np.zeros(state_shape, dtype=np.float32)\n",
    "        self.a = np.zeros(capacity, dtype=np.int32)\n",
    "        self.r = np.zeros(capacity, dtype=np.float32)\n",
    "        self.isterminal = np.zeros(capacity, dtype=np.float32) # isterminal flag\n",
    "\n",
    "        self.capacity = capacity             # = global variable replay_memory_size\n",
    "        self.size = 0\n",
    "        self.pos = 0\n",
    "\n",
    "    def add_transition(self, s1, action, s2, isterminal, reward): # called to store a new transition\n",
    "        self.s1[self.pos, :, :, 0] = s1                           # s1 gets stored at position self.pos\n",
    "        self.a[self.pos] = action                                 # a gest stored at position self.pos\n",
    "        if not isterminal:\n",
    "            self.s2[self.pos, :, :, 0] = s2                     # s2 gest stored at position self.pos\n",
    "        self.isterminal[self.pos] = isterminal                  # isterminal stored at position self.pos\n",
    "        self.r[self.pos] = reward                               # reward is stored at position self.pos\n",
    "\n",
    "        self.pos = (self.pos + 1) % self.capacity               # self.pos incremented by one, = pointer\n",
    "        self.size = min(self.size + 1, self.capacity)           # checks max size\n",
    "\n",
    "    def get_sample(self, sample_size):               # sample_size = global var \"batch_size\"\n",
    "        i = sample(range(0, self.size), sample_size) # select randomly a sample of size \"sample_size\"\n",
    "                                                     # from the list\n",
    "        return self.s1[i], self.a[i], self.s2[i], self.isterminal[i], self.r[i] \n",
    "                              #returns the selected list of transitions = the transition sample\n",
    "        \n",
    "    def get_current_size(self): # to perform checks on memory evolution\n",
    "        return self.pos\n",
    "    \n",
    "print (\"ok\")"
   ]
  },
  {
   "cell_type": "code",
   "execution_count": 11,
   "metadata": {},
   "outputs": [
    {
     "name": "stdout",
     "output_type": "stream",
     "text": [
      "done\n"
     ]
    }
   ],
   "source": [
    "###########################################################################################\n",
    "# create_network function                                                                 #\n",
    "###########################################################################################\n",
    "# Definition of convolutional network implementing & callable functions                   #\n",
    "#                                                                                         #\n",
    "#  in                                                                                     #\n",
    "#     session: this is the model (graph) instantiated as tf.Session()                     #\n",
    "#     available_actions_count: len(actions) where actions is the list of action from      #\n",
    "#                              game.get_available_buttons_size()                          #\n",
    "#                                                                                         #\n",
    "#  important note:                                                                        #\n",
    "#     we don't use pooling layers because we want to keep the location of the object      #\n",
    "#                                                                                         #\n",
    "#  out                                                                                    #\n",
    "#     function_learn()                                                                    #\n",
    "#     function_get_q_values()                                                             #\n",
    "#     function_simple_get_best_action()                                                   #\n",
    "#                                                                                         #\n",
    "###########################################################################################\n",
    "def create_network(session, available_actions_count):\n",
    "    \n",
    "    # Create the input variables / placeholders\n",
    "    s1_ = tf.placeholder(tf.float32, [None] + list(resolution) + [1], name=\"State\")\n",
    "    a_ = tf.placeholder(tf.int32, [None], name=\"Action\")\n",
    "    target_q_ = tf.placeholder(tf.float32, [None, available_actions_count], name=\"TargetQ\")\n",
    "\n",
    "    # 1st convolutional layer\n",
    "    conv1 = tf.contrib.layers.convolution2d(s1_, num_outputs=32, kernel_size=8, stride=4,\n",
    "                                            activation_fn=tf.nn.relu,\n",
    "                                            weights_initializer=tf.contrib.layers.xavier_initializer_conv2d(uniform=True),\n",
    "                                            biases_initializer=tf.constant_initializer(0.1))\n",
    "    \n",
    "    # 2nd convolutional layer \n",
    "    conv2 = tf.contrib.layers.convolution2d(conv1, num_outputs=64, kernel_size=4, stride=2,\n",
    "                                            activation_fn=tf.nn.relu,\n",
    "                                            weights_initializer=tf.contrib.layers.xavier_initializer_conv2d(uniform=True),\n",
    "                                            biases_initializer=tf.constant_initializer(0.1))\n",
    "    \n",
    "    # 3rd convolutional layer \n",
    "    conv3 = tf.contrib.layers.convolution2d(conv2, num_outputs=64, kernel_size=3, stride=1,\n",
    "                                            activation_fn=tf.nn.relu,\n",
    "                                            weights_initializer=tf.contrib.layers.xavier_initializer_conv2d(uniform=True),\n",
    "                                            biases_initializer=tf.constant_initializer(0.1))    \n",
    "    \n",
    "    # flattening layer\n",
    "    conv3_flat = tf.contrib.layers.flatten(conv3)\n",
    "    \n",
    "    # 1st fully connected layer\n",
    "    fc1 = tf.contrib.layers.fully_connected(conv3_flat, num_outputs=256, activation_fn=tf.nn.relu,\n",
    "                                            weights_initializer=tf.contrib.layers.xavier_initializer(),\n",
    "                                            biases_initializer=tf.constant_initializer(0.1))\n",
    "    \n",
    "    # 2nd fully connected layer, NO activation function: best action calculated with argmax()\n",
    "    # the number of ouptuts is \"available_actions_count\", where a q value if computer for each action \n",
    "    q = tf.contrib.layers.fully_connected(fc1, num_outputs=available_actions_count, activation_fn=None,\n",
    "                                          weights_initializer=tf.contrib.layers.xavier_initializer(),\n",
    "                                          biases_initializer=tf.constant_initializer(0.1))\n",
    "    \n",
    "    best_a = tf.argmax(q, 1) # best action is the highest q-value among the q vector of \n",
    "                             # size \"available_actions_count\"\n",
    "    \n",
    "    loss = tf.losses.mean_squared_error(q, target_q_)   # the loss function\n",
    "        \n",
    "    optimizer = tf.train.RMSPropOptimizer(learning_rate) # RMS-backpropagation with gradient descent \n",
    "    train_step = optimizer.minimize(loss)                # on loss\n",
    "        \n",
    "        \n",
    "    ###########################################################################################\n",
    "    # function_learn() function                                                               #\n",
    "    ###########################################################################################\n",
    "    #  in                                                                                     #\n",
    "    #     s1: a list of \"batch_size\" states                                                   #\n",
    "    #     target_q: a list of \"batch_size\" target_q                                           #\n",
    "    #     epoch: is passed here to be stored with the loss values in the array for this epoch #\n",
    "    #     learning_step: is passed here to be stored with the loss value of this learning step#\n",
    "    #                                                                                         #\n",
    "    #  out                                                                                    #   \n",
    "    #     l:     the MSE score which is stored in the epoch-corresponding array               #\n",
    "    #                                                                                         #\n",
    "    ###########################################################################################\n",
    "    def function_learn(s1, target_q, epoch, learning_step):\n",
    "        feed_dict = {s1_: s1, target_q_: target_q}\n",
    "        l, _ = session.run([loss, train_step], feed_dict=feed_dict)\n",
    "   \n",
    "        k = epoch + 1\n",
    "        # (globals()['loss_epoch_'+str(k)])[learning_step,0] = learning_step\n",
    "        (globals()['loss_epoch_'+str(k)])[learning_step,1] = l # we capture l\n",
    "        return l\n",
    "\n",
    "    \n",
    "    ###########################################################################################\n",
    "    # function_get_q_values() function                                                        #\n",
    "    ###########################################################################################\n",
    "    #  in                                                                                     #\n",
    "    #     state: a vector of \"batch_size\" states                                              #\n",
    "    #                                                                                         #\n",
    "    #  out                                                                                    #   \n",
    "    #     a matrix with all \"available_actions_count\" q values                                #\n",
    "    #     for all these states in the batch                                                   #\n",
    "    #                                                                                         #\n",
    "    ###########################################################################################\n",
    "    def function_get_q_values(state):\n",
    "        return session.run(q, feed_dict={s1_: state})\n",
    "\n",
    "    \n",
    "    ###########################################################################################\n",
    "    # function_simple_get_best_action() function                                              #\n",
    "    ###########################################################################################\n",
    "    #  in                                                                                     #\n",
    "    #     state: a vector of \"batch_size\" states                                              #\n",
    "    #                                                                                         #\n",
    "    #  out                                                                                    #   \n",
    "    #     the vector of the best action for each of the states                                #\n",
    "    #                                                                                         #\n",
    "    ###########################################################################################\n",
    "    def function_get_best_action(state):\n",
    "        return session.run(best_a, feed_dict={s1_: state})\n",
    "\n",
    "    def function_simple_get_best_action(state):\n",
    "        return function_get_best_action(state.reshape([1, resolution[0], resolution[1], 1]))[0]\n",
    "\n",
    "    return function_learn, function_get_q_values, function_simple_get_best_action   \n",
    "                            # the 3 functions made available for the object network\n",
    "\n",
    "print(\"done\")"
   ]
  },
  {
   "cell_type": "code",
   "execution_count": 6,
   "metadata": {},
   "outputs": [
    {
     "name": "stdout",
     "output_type": "stream",
     "text": [
      "done\n"
     ]
    }
   ],
   "source": [
    "# Learning functions\n",
    "\n",
    "###########################################################################################\n",
    "# learn_from_memory() function                                                            #\n",
    "###########################################################################################\n",
    "# This is the function which is called after each learning step to train the network,     #\n",
    "# through perform_learning_step():                                                        #\n",
    "#                                                                                         #\n",
    "# - it calls memory.get_sample() to get the batch of transitions (of size batch_size)     #\n",
    "#                                                                                         #\n",
    "# - it computes the max q_values for all the states s2 (in the batch) with get_q_values(),#\n",
    "# q_values are estimated by the network                                                   #\n",
    "#                                                                                         #\n",
    "# - it calls get_q_values() to get the target_q values of all states s1 from the batch,   #\n",
    "# target_q values estimated by the network                                                #\n",
    "#                                                                                         #\n",
    "# - it computes the Bellman equation for all target_qs (for the action of this transition)#\n",
    "#                                                                                         #\n",
    "# - then triggers learn() for this batch of transitions with their \"new\" target_q values  #\n",
    "#                                                                                         #\n",
    "#  in                                                                                     #\n",
    "#     epoch: passed on here because needed in learn(), to store loss values               #\n",
    "#     learning_step: passed on here because needed in learn(), to store loss values       #\n",
    "#                                                                                         #\n",
    "###########################################################################################\n",
    "def learn_from_memory(epoch, learning_step):\n",
    "\n",
    "    # Get a random minibatch from the replay memory and learns from it.\n",
    "    if memory.size > batch_size: # means there is enough memory to extract a batch of this size\n",
    "        s1, a, s2, isterminal, r = memory.get_sample(batch_size)\n",
    "\n",
    "        q2 = np.max(get_q_values(s2), axis=1)\n",
    "        target_q = get_q_values(s1)\n",
    "        # target_Q(s,a) = r + gamma * max Q(s2,_) if isterminal, else r, the Bellman equation\n",
    "        target_q[np.arange(target_q.shape[0]), a] = r + discount_factor * (1 - isterminal) * q2\n",
    "        learn(s1, target_q, epoch, learning_step)   # new round of learning for the network\n",
    "        \n",
    "        \n",
    "###########################################################################################\n",
    "# perform_learning_step() function                                                        #\n",
    "###########################################################################################\n",
    "# This dunction let the agent make an action according to the epsilon-greedy policy,      #\n",
    "# and observe the result (next state, reward) and learns from the transition              #\n",
    "#                                                                                         #\n",
    "#  in                                                                                     #\n",
    "#     epoch: required to compute epsilon in current epoch (it decays over the epochs)     #\n",
    "#     learning_step: passed here because required in learn_from_memory(), to store loss   #\n",
    "#                                                                                         #\n",
    "###########################################################################################        \n",
    "def perform_learning_step(epoch, learning_step):\n",
    "\n",
    "    def exploration_rate(epoch):\n",
    "        # exploration rate decaying over epochs / optimize exploration \n",
    "        # eps = math.exp(-0.01*epoch)   # more exploration\n",
    "        eps = math.exp(-0.1*epoch)      # starting point (coming from smart cab miniproject)\n",
    "        # eps = math.exp(-epoch)        # more exploitation\n",
    "        return eps\n",
    "            \n",
    "    s1 = preprocess(game.get_state().screen_buffer)\n",
    "\n",
    "    # With probability eps, makes a random action\n",
    "    eps = exploration_rate(epoch)\n",
    "    if random() <= eps:\n",
    "        a = randint(0, len(actions) - 1)    # random action\n",
    "    else:\n",
    "        a = get_best_action(s1)             # the best action according to the network\n",
    "    \n",
    "    reward = game.make_action(actions[a], frame_repeat)    # collects reward from game\n",
    "\n",
    "    isterminal = game.is_episode_finished()\n",
    "    \n",
    "    s2 = preprocess(game.get_state().screen_buffer) if not isterminal else None\n",
    "\n",
    "    # store the transition that was just experienced\n",
    "    memory.add_transition(s1, a, s2, isterminal, reward)\n",
    "\n",
    "    learn_from_memory(epoch, learning_step)     # starts learning for the network\n",
    "    \n",
    "print(\"done\")"
   ]
  },
  {
   "cell_type": "code",
   "execution_count": 7,
   "metadata": {},
   "outputs": [
    {
     "name": "stdout",
     "output_type": "stream",
     "text": [
      "done\n"
     ]
    }
   ],
   "source": [
    "# Creates and initializes ViZDoom environment.\n",
    "# game is the object that will own the ViZDoom's Python API routines\n",
    "\n",
    "def initialize_vizdoom(config_file_path):\n",
    "    print(\"Initializing doom...\")\n",
    "    game = DoomGame()\n",
    "    game.load_config(config_file_path)\n",
    "    game.set_window_visible(False)\n",
    "    game.set_mode(Mode.PLAYER)\n",
    "    game.set_screen_format(ScreenFormat.GRAY8)               # the provided images are grey-scaled\n",
    "    game.set_screen_resolution(ScreenResolution.RES_640X480)\n",
    "    game.init()\n",
    "    print(\"Doom initialized.\")\n",
    "    return game\n",
    "\n",
    "print(\"done\")"
   ]
  },
  {
   "cell_type": "code",
   "execution_count": 12,
   "metadata": {},
   "outputs": [
    {
     "name": "stdout",
     "output_type": "stream",
     "text": [
      "Initializing doom...\n",
      "Doom initialized.\n",
      "Starting with training!\n",
      "\n",
      "Epoch 1\n",
      "-------\n",
      "Training...\n"
     ]
    },
    {
     "name": "stderr",
     "output_type": "stream",
     "text": [
      "  0%|          | 0/2000 [00:00<?, ?it/s]/usr/local/lib/python3.5/dist-packages/skimage/transform/_warps.py:84: UserWarning: The default mode, 'constant', will be changed to 'reflect' in skimage 0.15.\n",
      "  warn(\"The default mode, 'constant', will be changed to 'reflect' in \"\n",
      "  0%|          | 0/100 [00:00<?, ?it/s]            "
     ]
    },
    {
     "name": "stdout",
     "output_type": "stream",
     "text": [
      "51 training episodes played.\n",
      "Results: mean: 359.9±125.7, min: 156.0, max: 764.0, RM size: 2000.0, loss: 250032933.8,\n",
      "\n",
      "Testing...\n"
     ]
    },
    {
     "name": "stderr",
     "output_type": "stream",
     "text": [
      "                                                 \r"
     ]
    },
    {
     "name": "stdout",
     "output_type": "stream",
     "text": [
      "Results: mean: 302.6±30.1, min: 284.0 max: 444.0\n",
      "Saving the network weigths to: /tmp/model.ckpt\n"
     ]
    },
    {
     "name": "stderr",
     "output_type": "stream",
     "text": [
      "\r",
      "  0%|          | 0/2000 [00:00<?, ?it/s]"
     ]
    },
    {
     "name": "stdout",
     "output_type": "stream",
     "text": [
      "Total elapsed time: 7.98 minutes\n",
      "\n",
      "Epoch 2\n",
      "-------\n",
      "Training...\n"
     ]
    },
    {
     "name": "stderr",
     "output_type": "stream",
     "text": [
      "  0%|          | 0/100 [00:00<?, ?it/s]            "
     ]
    },
    {
     "name": "stdout",
     "output_type": "stream",
     "text": [
      "54 training episodes played.\n",
      "Results: mean: 332.9±86.1, min: 156.0, max: 668.0, RM size: 4000.0, loss: 641337.7,\n",
      "\n",
      "Testing...\n"
     ]
    },
    {
     "name": "stderr",
     "output_type": "stream",
     "text": [
      "                                                 \r"
     ]
    },
    {
     "name": "stdout",
     "output_type": "stream",
     "text": [
      "Results: mean: 284.0±0.0, min: 284.0 max: 284.0\n",
      "Saving the network weigths to: /tmp/model.ckpt\n"
     ]
    },
    {
     "name": "stderr",
     "output_type": "stream",
     "text": [
      "\r",
      "  0%|          | 0/2000 [00:00<?, ?it/s]"
     ]
    },
    {
     "name": "stdout",
     "output_type": "stream",
     "text": [
      "Total elapsed time: 15.29 minutes\n",
      "\n",
      "Epoch 3\n",
      "-------\n",
      "Training...\n"
     ]
    },
    {
     "name": "stderr",
     "output_type": "stream",
     "text": [
      "  0%|          | 0/100 [00:00<?, ?it/s]            "
     ]
    },
    {
     "name": "stdout",
     "output_type": "stream",
     "text": [
      "53 training episodes played.\n",
      "Results: mean: 341.7±86.3, min: 40.0, max: 572.0, RM size: 6000.0, loss: 6101.9,\n",
      "\n",
      "Testing...\n"
     ]
    },
    {
     "name": "stderr",
     "output_type": "stream",
     "text": [
      "                                                 \r"
     ]
    },
    {
     "name": "stdout",
     "output_type": "stream",
     "text": [
      "Results: mean: 300.0±58.7, min: 156.0 max: 732.0\n",
      "Saving the network weigths to: /tmp/model.ckpt\n"
     ]
    },
    {
     "name": "stderr",
     "output_type": "stream",
     "text": [
      "\r",
      "  0%|          | 0/2000 [00:00<?, ?it/s]"
     ]
    },
    {
     "name": "stdout",
     "output_type": "stream",
     "text": [
      "Total elapsed time: 22.42 minutes\n",
      "\n",
      "Epoch 4\n",
      "-------\n",
      "Training...\n"
     ]
    },
    {
     "name": "stderr",
     "output_type": "stream",
     "text": [
      "  0%|          | 0/100 [00:00<?, ?it/s]            "
     ]
    },
    {
     "name": "stdout",
     "output_type": "stream",
     "text": [
      "53 training episodes played.\n",
      "Results: mean: 348.6±83.4, min: 220.0, max: 572.0, RM size: 8000.0, loss: 2046.0,\n",
      "\n",
      "Testing...\n"
     ]
    },
    {
     "name": "stderr",
     "output_type": "stream",
     "text": [
      "                                                 \r"
     ]
    },
    {
     "name": "stdout",
     "output_type": "stream",
     "text": [
      "Results: mean: 334.5±94.2, min: 156.0 max: 604.0\n",
      "Saving the network weigths to: /tmp/model.ckpt\n"
     ]
    },
    {
     "name": "stderr",
     "output_type": "stream",
     "text": [
      "\r",
      "  0%|          | 0/2000 [00:00<?, ?it/s]"
     ]
    },
    {
     "name": "stdout",
     "output_type": "stream",
     "text": [
      "Total elapsed time: 29.99 minutes\n",
      "\n",
      "Epoch 5\n",
      "-------\n",
      "Training...\n"
     ]
    },
    {
     "name": "stderr",
     "output_type": "stream",
     "text": [
      "  0%|          | 0/100 [00:00<?, ?it/s]            "
     ]
    },
    {
     "name": "stdout",
     "output_type": "stream",
     "text": [
      "54 training episodes played.\n",
      "Results: mean: 337.8±100.3, min: 156.0, max: 732.0, RM size: 0.0, loss: 1575.0,\n",
      "\n",
      "Testing...\n"
     ]
    },
    {
     "name": "stderr",
     "output_type": "stream",
     "text": [
      "                                                 \r"
     ]
    },
    {
     "name": "stdout",
     "output_type": "stream",
     "text": [
      "Results: mean: 354.4±120.4, min: 156.0 max: 988.0\n",
      "Saving the network weigths to: /tmp/model.ckpt\n"
     ]
    },
    {
     "name": "stderr",
     "output_type": "stream",
     "text": [
      "\r",
      "  0%|          | 0/2000 [00:00<?, ?it/s]"
     ]
    },
    {
     "name": "stdout",
     "output_type": "stream",
     "text": [
      "Total elapsed time: 37.74 minutes\n",
      "\n",
      "Epoch 6\n",
      "-------\n",
      "Training...\n"
     ]
    },
    {
     "name": "stderr",
     "output_type": "stream",
     "text": [
      "  0%|          | 0/100 [00:00<?, ?it/s]            "
     ]
    },
    {
     "name": "stdout",
     "output_type": "stream",
     "text": [
      "56 training episodes played.\n",
      "Results: mean: 319.6±95.5, min: 124.0, max: 636.0, RM size: 2000.0, loss: 1442.3,\n",
      "\n",
      "Testing...\n"
     ]
    },
    {
     "name": "stderr",
     "output_type": "stream",
     "text": [
      "                                                 \r"
     ]
    },
    {
     "name": "stdout",
     "output_type": "stream",
     "text": [
      "Results: mean: 284.0±0.0, min: 284.0 max: 284.0\n",
      "Saving the network weigths to: /tmp/model.ckpt\n"
     ]
    },
    {
     "name": "stderr",
     "output_type": "stream",
     "text": [
      "\r",
      "  0%|          | 0/2000 [00:00<?, ?it/s]"
     ]
    },
    {
     "name": "stdout",
     "output_type": "stream",
     "text": [
      "Total elapsed time: 45.17 minutes\n",
      "\n",
      "Epoch 7\n",
      "-------\n",
      "Training...\n"
     ]
    },
    {
     "name": "stderr",
     "output_type": "stream",
     "text": [
      "  0%|          | 0/100 [00:00<?, ?it/s]            "
     ]
    },
    {
     "name": "stdout",
     "output_type": "stream",
     "text": [
      "56 training episodes played.\n",
      "Results: mean: 319.5±87.5, min: 156.0, max: 636.0, RM size: 4000.0, loss: 1148.5,\n",
      "\n",
      "Testing...\n"
     ]
    },
    {
     "name": "stderr",
     "output_type": "stream",
     "text": [
      "                                                 \r"
     ]
    },
    {
     "name": "stdout",
     "output_type": "stream",
     "text": [
      "Results: mean: 348.6±120.9, min: 116.0 max: 701.0\n",
      "Saving the network weigths to: /tmp/model.ckpt\n"
     ]
    },
    {
     "name": "stderr",
     "output_type": "stream",
     "text": [
      "\r",
      "  0%|          | 0/2000 [00:00<?, ?it/s]"
     ]
    },
    {
     "name": "stdout",
     "output_type": "stream",
     "text": [
      "Total elapsed time: 52.41 minutes\n",
      "\n",
      "Epoch 8\n",
      "-------\n",
      "Training...\n"
     ]
    },
    {
     "name": "stderr",
     "output_type": "stream",
     "text": [
      "  0%|          | 0/100 [00:00<?, ?it/s]            "
     ]
    },
    {
     "name": "stdout",
     "output_type": "stream",
     "text": [
      "55 training episodes played.\n",
      "Results: mean: 328.6±88.2, min: 124.0, max: 636.0, RM size: 6000.0, loss: 875.6,\n",
      "\n",
      "Testing...\n"
     ]
    },
    {
     "name": "stderr",
     "output_type": "stream",
     "text": [
      "                                                 \r"
     ]
    },
    {
     "name": "stdout",
     "output_type": "stream",
     "text": [
      "Results: mean: 285.9±12.7, min: 252.0 max: 380.0\n",
      "Saving the network weigths to: /tmp/model.ckpt\n"
     ]
    },
    {
     "name": "stderr",
     "output_type": "stream",
     "text": [
      "\r",
      "  0%|          | 0/2000 [00:00<?, ?it/s]"
     ]
    },
    {
     "name": "stdout",
     "output_type": "stream",
     "text": [
      "Total elapsed time: 59.58 minutes\n",
      "\n",
      "Epoch 9\n",
      "-------\n",
      "Training...\n"
     ]
    },
    {
     "name": "stderr",
     "output_type": "stream",
     "text": [
      "  0%|          | 0/100 [00:00<?, ?it/s]            "
     ]
    },
    {
     "name": "stdout",
     "output_type": "stream",
     "text": [
      "53 training episodes played.\n",
      "Results: mean: 344.4±83.1, min: 156.0, max: 604.0, RM size: 8000.0, loss: 804.6,\n",
      "\n",
      "Testing...\n"
     ]
    },
    {
     "name": "stderr",
     "output_type": "stream",
     "text": [
      "                                                 \r"
     ]
    },
    {
     "name": "stdout",
     "output_type": "stream",
     "text": [
      "Results: mean: 288.2±27.4, min: 156.0 max: 348.0\n",
      "Saving the network weigths to: /tmp/model.ckpt\n",
      "Total elapsed time: 66.93 minutes\n",
      "\n",
      "Epoch 10\n",
      "-------\n",
      "Training...\n"
     ]
    },
    {
     "name": "stderr",
     "output_type": "stream",
     "text": [
      "  0%|          | 0/100 [00:00<?, ?it/s]            "
     ]
    },
    {
     "name": "stdout",
     "output_type": "stream",
     "text": [
      "49 training episodes played.\n",
      "Results: mean: 378.8±131.5, min: 28.0, max: 892.0, RM size: 0.0, loss: 872.8,\n",
      "\n",
      "Testing...\n"
     ]
    },
    {
     "name": "stderr",
     "output_type": "stream",
     "text": [
      "                                                 \r"
     ]
    },
    {
     "name": "stdout",
     "output_type": "stream",
     "text": [
      "Results: mean: 331.4±99.9, min: 156.0 max: 828.0\n",
      "Saving the network weigths to: /tmp/model.ckpt\n"
     ]
    },
    {
     "name": "stderr",
     "output_type": "stream",
     "text": [
      "\r",
      "  0%|          | 0/2000 [00:00<?, ?it/s]"
     ]
    },
    {
     "name": "stdout",
     "output_type": "stream",
     "text": [
      "Total elapsed time: 74.43 minutes\n",
      "\n",
      "Epoch 11\n",
      "-------\n",
      "Training...\n"
     ]
    },
    {
     "name": "stderr",
     "output_type": "stream",
     "text": [
      "  0%|          | 0/100 [00:00<?, ?it/s]            "
     ]
    },
    {
     "name": "stdout",
     "output_type": "stream",
     "text": [
      "56 training episodes played.\n",
      "Results: mean: 320.5±90.7, min: 156.0, max: 796.0, RM size: 2000.0, loss: 744.6,\n",
      "\n",
      "Testing...\n"
     ]
    },
    {
     "name": "stderr",
     "output_type": "stream",
     "text": [
      "                                                 \r"
     ]
    },
    {
     "name": "stdout",
     "output_type": "stream",
     "text": [
      "Results: mean: 311.2±45.6, min: 156.0 max: 476.0\n",
      "Saving the network weigths to: /tmp/model.ckpt\n"
     ]
    },
    {
     "name": "stderr",
     "output_type": "stream",
     "text": [
      "\r",
      "  0%|          | 0/2000 [00:00<?, ?it/s]"
     ]
    },
    {
     "name": "stdout",
     "output_type": "stream",
     "text": [
      "Total elapsed time: 81.75 minutes\n",
      "\n",
      "Epoch 12\n",
      "-------\n",
      "Training...\n"
     ]
    },
    {
     "name": "stderr",
     "output_type": "stream",
     "text": [
      "  0%|          | 0/100 [00:00<?, ?it/s]            "
     ]
    },
    {
     "name": "stdout",
     "output_type": "stream",
     "text": [
      "55 training episodes played.\n",
      "Results: mean: 328.2±95.8, min: 156.0, max: 604.0, RM size: 4000.0, loss: 766.5,\n",
      "\n",
      "Testing...\n"
     ]
    },
    {
     "name": "stderr",
     "output_type": "stream",
     "text": [
      "                                                 \r"
     ]
    },
    {
     "name": "stdout",
     "output_type": "stream",
     "text": [
      "Results: mean: 392.4±161.4, min: 119.0 max: 1084.0\n",
      "Saving the network weigths to: /tmp/model.ckpt\n"
     ]
    },
    {
     "name": "stderr",
     "output_type": "stream",
     "text": [
      "\r",
      "  0%|          | 0/2000 [00:00<?, ?it/s]"
     ]
    },
    {
     "name": "stdout",
     "output_type": "stream",
     "text": [
      "Total elapsed time: 89.26 minutes\n",
      "\n",
      "Epoch 13\n",
      "-------\n",
      "Training...\n"
     ]
    },
    {
     "name": "stderr",
     "output_type": "stream",
     "text": [
      "  0%|          | 0/100 [00:00<?, ?it/s]            "
     ]
    },
    {
     "name": "stdout",
     "output_type": "stream",
     "text": [
      "55 training episodes played.\n",
      "Results: mean: 326.7±109.2, min: 156.0, max: 668.0, RM size: 6000.0, loss: 708.2,\n",
      "\n",
      "Testing...\n"
     ]
    },
    {
     "name": "stderr",
     "output_type": "stream",
     "text": [
      "                                                 \r"
     ]
    },
    {
     "name": "stdout",
     "output_type": "stream",
     "text": [
      "Results: mean: 285.0±16.6, min: 156.0 max: 348.0\n",
      "Saving the network weigths to: /tmp/model.ckpt\n"
     ]
    },
    {
     "name": "stderr",
     "output_type": "stream",
     "text": [
      "\r",
      "  0%|          | 0/2000 [00:00<?, ?it/s]"
     ]
    },
    {
     "name": "stdout",
     "output_type": "stream",
     "text": [
      "Total elapsed time: 96.48 minutes\n",
      "\n",
      "Epoch 14\n",
      "-------\n",
      "Training...\n"
     ]
    },
    {
     "name": "stderr",
     "output_type": "stream",
     "text": [
      "  0%|          | 0/100 [00:00<?, ?it/s]            "
     ]
    },
    {
     "name": "stdout",
     "output_type": "stream",
     "text": [
      "54 training episodes played.\n",
      "Results: mean: 339.1±84.8, min: 188.0, max: 668.0, RM size: 8000.0, loss: 705.8,\n",
      "\n",
      "Testing...\n"
     ]
    },
    {
     "name": "stderr",
     "output_type": "stream",
     "text": [
      "                                                 \r"
     ]
    },
    {
     "name": "stdout",
     "output_type": "stream",
     "text": [
      "Results: mean: 284.6±6.4, min: 284.0 max: 348.0\n",
      "Saving the network weigths to: /tmp/model.ckpt\n"
     ]
    },
    {
     "name": "stderr",
     "output_type": "stream",
     "text": [
      "\r",
      "  0%|          | 0/2000 [00:00<?, ?it/s]"
     ]
    },
    {
     "name": "stdout",
     "output_type": "stream",
     "text": [
      "Total elapsed time: 103.75 minutes\n",
      "\n",
      "Epoch 15\n",
      "-------\n",
      "Training...\n"
     ]
    },
    {
     "name": "stderr",
     "output_type": "stream",
     "text": [
      "  0%|          | 0/100 [00:00<?, ?it/s]            "
     ]
    },
    {
     "name": "stdout",
     "output_type": "stream",
     "text": [
      "58 training episodes played.\n",
      "Results: mean: 310.4±68.6, min: 156.0, max: 604.0, RM size: 0.0, loss: 697.9,\n",
      "\n",
      "Testing...\n"
     ]
    },
    {
     "name": "stderr",
     "output_type": "stream",
     "text": [
      "                                                 \r"
     ]
    },
    {
     "name": "stdout",
     "output_type": "stream",
     "text": [
      "Results: mean: 284.0±15.7, min: 156.0 max: 348.0\n",
      "Saving the network weigths to: /tmp/model.ckpt\n"
     ]
    },
    {
     "name": "stderr",
     "output_type": "stream",
     "text": [
      "\r",
      "  0%|          | 0/2000 [00:00<?, ?it/s]"
     ]
    },
    {
     "name": "stdout",
     "output_type": "stream",
     "text": [
      "Total elapsed time: 110.98 minutes\n",
      "\n",
      "Epoch 16\n",
      "-------\n",
      "Training...\n"
     ]
    },
    {
     "name": "stderr",
     "output_type": "stream",
     "text": [
      "  0%|          | 0/100 [00:00<?, ?it/s]            "
     ]
    },
    {
     "name": "stdout",
     "output_type": "stream",
     "text": [
      "57 training episodes played.\n",
      "Results: mean: 314.7±55.6, min: 149.0, max: 503.0, RM size: 2000.0, loss: 738.1,\n",
      "\n",
      "Testing...\n"
     ]
    },
    {
     "name": "stderr",
     "output_type": "stream",
     "text": [
      "                                                 \r"
     ]
    },
    {
     "name": "stdout",
     "output_type": "stream",
     "text": [
      "Results: mean: 284.6±6.4, min: 284.0 max: 348.0\n",
      "Saving the network weigths to: /tmp/model.ckpt\n"
     ]
    },
    {
     "name": "stderr",
     "output_type": "stream",
     "text": [
      "\r",
      "  0%|          | 0/2000 [00:00<?, ?it/s]"
     ]
    },
    {
     "name": "stdout",
     "output_type": "stream",
     "text": [
      "Total elapsed time: 118.27 minutes\n",
      "\n",
      "Epoch 17\n",
      "-------\n",
      "Training...\n"
     ]
    },
    {
     "name": "stderr",
     "output_type": "stream",
     "text": [
      "  0%|          | 0/100 [00:00<?, ?it/s]            "
     ]
    },
    {
     "name": "stdout",
     "output_type": "stream",
     "text": [
      "60 training episodes played.\n",
      "Results: mean: 292.9±56.5, min: 156.0, max: 444.0, RM size: 4000.0, loss: 715.8,\n",
      "\n",
      "Testing...\n"
     ]
    },
    {
     "name": "stderr",
     "output_type": "stream",
     "text": [
      "                                                 \r"
     ]
    },
    {
     "name": "stdout",
     "output_type": "stream",
     "text": [
      "Results: mean: 292.5±20.1, min: 284.0 max: 348.0\n",
      "Saving the network weigths to: /tmp/model.ckpt\n"
     ]
    },
    {
     "name": "stderr",
     "output_type": "stream",
     "text": [
      "\r",
      "  0%|          | 0/2000 [00:00<?, ?it/s]"
     ]
    },
    {
     "name": "stdout",
     "output_type": "stream",
     "text": [
      "Total elapsed time: 125.78 minutes\n",
      "\n",
      "Epoch 18\n",
      "-------\n",
      "Training...\n"
     ]
    },
    {
     "name": "stderr",
     "output_type": "stream",
     "text": [
      "  0%|          | 0/100 [00:00<?, ?it/s]            "
     ]
    },
    {
     "name": "stdout",
     "output_type": "stream",
     "text": [
      "57 training episodes played.\n",
      "Results: mean: 317.5±70.7, min: 156.0, max: 508.0, RM size: 6000.0, loss: 673.3,\n",
      "\n",
      "Testing...\n"
     ]
    },
    {
     "name": "stderr",
     "output_type": "stream",
     "text": [
      "                                                 \r"
     ]
    },
    {
     "name": "stdout",
     "output_type": "stream",
     "text": [
      "Results: mean: 287.8±24.5, min: 156.0 max: 444.0\n",
      "Saving the network weigths to: /tmp/model.ckpt\n"
     ]
    },
    {
     "name": "stderr",
     "output_type": "stream",
     "text": [
      "\r",
      "  0%|          | 0/2000 [00:00<?, ?it/s]"
     ]
    },
    {
     "name": "stdout",
     "output_type": "stream",
     "text": [
      "Total elapsed time: 133.11 minutes\n",
      "\n",
      "Epoch 19\n",
      "-------\n",
      "Training...\n"
     ]
    },
    {
     "name": "stderr",
     "output_type": "stream",
     "text": [
      "  0%|          | 0/100 [00:00<?, ?it/s]            "
     ]
    },
    {
     "name": "stdout",
     "output_type": "stream",
     "text": [
      "58 training episodes played.\n",
      "Results: mean: 306.1±62.7, min: 156.0, max: 572.0, RM size: 8000.0, loss: 695.6,\n",
      "\n",
      "Testing...\n"
     ]
    },
    {
     "name": "stderr",
     "output_type": "stream",
     "text": [
      "                                                 \r"
     ]
    },
    {
     "name": "stdout",
     "output_type": "stream",
     "text": [
      "Results: mean: 284.0±0.0, min: 284.0 max: 284.0\n",
      "Saving the network weigths to: /tmp/model.ckpt\n",
      "Total elapsed time: 140.29 minutes\n",
      "\n",
      "Epoch 20\n",
      "-------\n",
      "Training...\n"
     ]
    },
    {
     "name": "stderr",
     "output_type": "stream",
     "text": [
      "  0%|          | 0/100 [00:00<?, ?it/s]            "
     ]
    },
    {
     "name": "stdout",
     "output_type": "stream",
     "text": [
      "60 training episodes played.\n",
      "Results: mean: 295.8±39.9, min: 181.0, max: 444.0, RM size: 0.0, loss: 681.0,\n",
      "\n",
      "Testing...\n"
     ]
    },
    {
     "name": "stderr",
     "output_type": "stream",
     "text": [
      "                                                 \r"
     ]
    },
    {
     "name": "stdout",
     "output_type": "stream",
     "text": [
      "Results: mean: 291.4±23.9, min: 284.0 max: 444.0\n",
      "Saving the network weigths to: /tmp/model.ckpt\n"
     ]
    },
    {
     "name": "stderr",
     "output_type": "stream",
     "text": [
      "  0%|          | 1/2000 [00:00<06:15,  5.33it/s]"
     ]
    },
    {
     "name": "stdout",
     "output_type": "stream",
     "text": [
      "Total elapsed time: 147.57 minutes\n",
      "\n",
      "Epoch 21\n",
      "-------\n",
      "Training...\n"
     ]
    },
    {
     "name": "stderr",
     "output_type": "stream",
     "text": [
      "  0%|          | 0/100 [00:00<?, ?it/s]            "
     ]
    },
    {
     "name": "stdout",
     "output_type": "stream",
     "text": [
      "59 training episodes played.\n",
      "Results: mean: 297.8±50.5, min: 156.0, max: 476.0, RM size: 2000.0, loss: 714.5,\n",
      "\n",
      "Testing...\n"
     ]
    },
    {
     "name": "stderr",
     "output_type": "stream",
     "text": [
      "                                                 \r"
     ]
    },
    {
     "name": "stdout",
     "output_type": "stream",
     "text": [
      "Results: mean: 282.7±12.7, min: 156.0 max: 284.0\n",
      "Saving the network weigths to: /tmp/model.ckpt\n"
     ]
    },
    {
     "name": "stderr",
     "output_type": "stream",
     "text": [
      "\r",
      "  0%|          | 0/2000 [00:00<?, ?it/s]"
     ]
    },
    {
     "name": "stdout",
     "output_type": "stream",
     "text": [
      "Total elapsed time: 154.89 minutes\n",
      "\n",
      "Epoch 22\n",
      "-------\n",
      "Training...\n"
     ]
    },
    {
     "name": "stderr",
     "output_type": "stream",
     "text": [
      "  0%|          | 0/100 [00:00<?, ?it/s]            "
     ]
    },
    {
     "name": "stdout",
     "output_type": "stream",
     "text": [
      "61 training episodes played.\n",
      "Results: mean: 287.4±54.0, min: 118.0, max: 444.0, RM size: 4000.0, loss: 661.7,\n",
      "\n",
      "Testing...\n"
     ]
    },
    {
     "name": "stderr",
     "output_type": "stream",
     "text": [
      "                                                 \r"
     ]
    },
    {
     "name": "stdout",
     "output_type": "stream",
     "text": [
      "Results: mean: 285.0±7.1, min: 284.0 max: 348.0\n",
      "Saving the network weigths to: /tmp/model.ckpt\n"
     ]
    },
    {
     "name": "stderr",
     "output_type": "stream",
     "text": [
      "\r",
      "  0%|          | 0/2000 [00:00<?, ?it/s]"
     ]
    },
    {
     "name": "stdout",
     "output_type": "stream",
     "text": [
      "Total elapsed time: 162.09 minutes\n",
      "\n",
      "Epoch 23\n",
      "-------\n",
      "Training...\n"
     ]
    },
    {
     "name": "stderr",
     "output_type": "stream",
     "text": [
      "  0%|          | 0/100 [00:00<?, ?it/s]            "
     ]
    },
    {
     "name": "stdout",
     "output_type": "stream",
     "text": [
      "61 training episodes played.\n",
      "Results: mean: 289.7±44.1, min: 156.0, max: 444.0, RM size: 6000.0, loss: 658.1,\n",
      "\n",
      "Testing...\n"
     ]
    },
    {
     "name": "stderr",
     "output_type": "stream",
     "text": [
      "                                                 \r"
     ]
    },
    {
     "name": "stdout",
     "output_type": "stream",
     "text": [
      "Results: mean: 284.0±0.0, min: 284.0 max: 284.0\n",
      "Saving the network weigths to: /tmp/model.ckpt\n"
     ]
    },
    {
     "name": "stderr",
     "output_type": "stream",
     "text": [
      "\r",
      "  0%|          | 0/2000 [00:00<?, ?it/s]"
     ]
    },
    {
     "name": "stdout",
     "output_type": "stream",
     "text": [
      "Total elapsed time: 169.68 minutes\n",
      "\n",
      "Epoch 24\n",
      "-------\n",
      "Training...\n"
     ]
    },
    {
     "name": "stderr",
     "output_type": "stream",
     "text": [
      "  0%|          | 0/100 [00:00<?, ?it/s]            "
     ]
    },
    {
     "name": "stdout",
     "output_type": "stream",
     "text": [
      "60 training episodes played.\n",
      "Results: mean: 294.7±24.6, min: 252.0, max: 348.0, RM size: 8000.0, loss: 646.7,\n",
      "\n",
      "Testing...\n"
     ]
    },
    {
     "name": "stderr",
     "output_type": "stream",
     "text": [
      "                                                 \r"
     ]
    },
    {
     "name": "stdout",
     "output_type": "stream",
     "text": [
      "Results: mean: 284.0±0.0, min: 284.0 max: 284.0\n",
      "Saving the network weigths to: /tmp/model.ckpt\n"
     ]
    },
    {
     "name": "stderr",
     "output_type": "stream",
     "text": [
      "\r",
      "  0%|          | 0/2000 [00:00<?, ?it/s]"
     ]
    },
    {
     "name": "stdout",
     "output_type": "stream",
     "text": [
      "Total elapsed time: 176.79 minutes\n",
      "\n",
      "Epoch 25\n",
      "-------\n",
      "Training...\n"
     ]
    },
    {
     "name": "stderr",
     "output_type": "stream",
     "text": [
      "  0%|          | 0/100 [00:00<?, ?it/s]            "
     ]
    },
    {
     "name": "stdout",
     "output_type": "stream",
     "text": [
      "60 training episodes played.\n",
      "Results: mean: 297.9±33.7, min: 252.0, max: 444.0, RM size: 0.0, loss: 631.9,\n",
      "\n",
      "Testing...\n"
     ]
    },
    {
     "name": "stderr",
     "output_type": "stream",
     "text": [
      "                                                 \r"
     ]
    },
    {
     "name": "stdout",
     "output_type": "stream",
     "text": [
      "Results: mean: 284.0±0.0, min: 284.0 max: 284.0\n",
      "Saving the network weigths to: /tmp/model.ckpt\n"
     ]
    },
    {
     "name": "stderr",
     "output_type": "stream",
     "text": [
      "\r",
      "  0%|          | 0/2000 [00:00<?, ?it/s]"
     ]
    },
    {
     "name": "stdout",
     "output_type": "stream",
     "text": [
      "Total elapsed time: 184.00 minutes\n",
      "\n",
      "Epoch 26\n",
      "-------\n",
      "Training...\n"
     ]
    },
    {
     "name": "stderr",
     "output_type": "stream",
     "text": [
      "  0%|          | 0/100 [00:00<?, ?it/s]            "
     ]
    },
    {
     "name": "stdout",
     "output_type": "stream",
     "text": [
      "61 training episodes played.\n",
      "Results: mean: 291.7±36.3, min: 176.0, max: 444.0, RM size: 2000.0, loss: 620.3,\n",
      "\n",
      "Testing...\n"
     ]
    },
    {
     "name": "stderr",
     "output_type": "stream",
     "text": [
      "  0%|          | 0/2000 [00:00<?, ?it/s]         "
     ]
    },
    {
     "name": "stdout",
     "output_type": "stream",
     "text": [
      "Results: mean: 284.0±0.0, min: 284.0 max: 284.0\n",
      "Saving the network weigths to: /tmp/model.ckpt\n",
      "Total elapsed time: 191.20 minutes\n",
      "\n",
      "Epoch 27\n",
      "-------\n",
      "Training...\n"
     ]
    },
    {
     "name": "stderr",
     "output_type": "stream",
     "text": [
      "  0%|          | 0/100 [00:00<?, ?it/s]            "
     ]
    },
    {
     "name": "stdout",
     "output_type": "stream",
     "text": [
      "60 training episodes played.\n",
      "Results: mean: 293.7±29.9, min: 156.0, max: 348.0, RM size: 4000.0, loss: 570.3,\n",
      "\n",
      "Testing...\n"
     ]
    },
    {
     "name": "stderr",
     "output_type": "stream",
     "text": [
      "                                                 \r"
     ]
    },
    {
     "name": "stdout",
     "output_type": "stream",
     "text": [
      "Results: mean: 284.0±0.0, min: 284.0 max: 284.0\n",
      "Saving the network weigths to: /tmp/model.ckpt\n"
     ]
    },
    {
     "name": "stderr",
     "output_type": "stream",
     "text": [
      "\r",
      "  0%|          | 0/2000 [00:00<?, ?it/s]"
     ]
    },
    {
     "name": "stdout",
     "output_type": "stream",
     "text": [
      "Total elapsed time: 198.41 minutes\n",
      "\n",
      "Epoch 28\n",
      "-------\n",
      "Training...\n"
     ]
    },
    {
     "name": "stderr",
     "output_type": "stream",
     "text": [
      "  0%|          | 0/100 [00:00<?, ?it/s]            "
     ]
    },
    {
     "name": "stdout",
     "output_type": "stream",
     "text": [
      "59 training episodes played.\n",
      "Results: mean: 303.0±46.1, min: 220.0, max: 508.0, RM size: 6000.0, loss: 567.7,\n",
      "\n",
      "Testing...\n"
     ]
    },
    {
     "name": "stderr",
     "output_type": "stream",
     "text": [
      "                                                 \r"
     ]
    },
    {
     "name": "stdout",
     "output_type": "stream",
     "text": [
      "Results: mean: 309.2±67.2, min: 156.0 max: 604.0\n",
      "Saving the network weigths to: /tmp/model.ckpt\n"
     ]
    },
    {
     "name": "stderr",
     "output_type": "stream",
     "text": [
      "\r",
      "  0%|          | 0/2000 [00:00<?, ?it/s]"
     ]
    },
    {
     "name": "stdout",
     "output_type": "stream",
     "text": [
      "Total elapsed time: 205.64 minutes\n",
      "\n",
      "Epoch 29\n",
      "-------\n",
      "Training...\n"
     ]
    },
    {
     "name": "stderr",
     "output_type": "stream",
     "text": [
      "  0%|          | 0/100 [00:00<?, ?it/s]            "
     ]
    },
    {
     "name": "stdout",
     "output_type": "stream",
     "text": [
      "52 training episodes played.\n",
      "Results: mean: 347.7±122.8, min: 156.0, max: 828.0, RM size: 8000.0, loss: 624.9,\n",
      "\n",
      "Testing...\n"
     ]
    },
    {
     "name": "stderr",
     "output_type": "stream",
     "text": [
      "                                                 \r"
     ]
    },
    {
     "name": "stdout",
     "output_type": "stream",
     "text": [
      "Results: mean: 352.8±117.6, min: 156.0 max: 755.0\n",
      "Saving the network weigths to: /tmp/model.ckpt\n"
     ]
    },
    {
     "name": "stderr",
     "output_type": "stream",
     "text": [
      "\r",
      "  0%|          | 0/2000 [00:00<?, ?it/s]"
     ]
    },
    {
     "name": "stdout",
     "output_type": "stream",
     "text": [
      "Total elapsed time: 213.43 minutes\n",
      "\n",
      "Epoch 30\n",
      "-------\n",
      "Training...\n"
     ]
    },
    {
     "name": "stderr",
     "output_type": "stream",
     "text": [
      "  0%|          | 0/100 [00:00<?, ?it/s]            "
     ]
    },
    {
     "name": "stdout",
     "output_type": "stream",
     "text": [
      "53 training episodes played.\n",
      "Results: mean: 341.9±98.2, min: 156.0, max: 668.0, RM size: 0.0, loss: 710.0,\n",
      "\n",
      "Testing...\n"
     ]
    },
    {
     "name": "stderr",
     "output_type": "stream",
     "text": [
      "                                                 \r"
     ]
    },
    {
     "name": "stdout",
     "output_type": "stream",
     "text": [
      "Results: mean: 319.5±85.1, min: 156.0 max: 636.0\n",
      "Saving the network weigths to: /tmp/model.ckpt\n"
     ]
    },
    {
     "name": "stderr",
     "output_type": "stream",
     "text": [
      "\r",
      "  0%|          | 0/2000 [00:00<?, ?it/s]"
     ]
    },
    {
     "name": "stdout",
     "output_type": "stream",
     "text": [
      "Total elapsed time: 221.08 minutes\n",
      "\n",
      "Epoch 31\n",
      "-------\n",
      "Training...\n"
     ]
    },
    {
     "name": "stderr",
     "output_type": "stream",
     "text": [
      "  0%|          | 0/100 [00:00<?, ?it/s]            "
     ]
    },
    {
     "name": "stdout",
     "output_type": "stream",
     "text": [
      "53 training episodes played.\n",
      "Results: mean: 345.2±143.9, min: 156.0, max: 1148.0, RM size: 2000.0, loss: 793.4,\n",
      "\n",
      "Testing...\n"
     ]
    },
    {
     "name": "stderr",
     "output_type": "stream",
     "text": [
      "                                                 \r"
     ]
    },
    {
     "name": "stdout",
     "output_type": "stream",
     "text": [
      "Results: mean: 336.0±98.3, min: 156.0 max: 956.0\n",
      "Saving the network weigths to: /tmp/model.ckpt\n"
     ]
    },
    {
     "name": "stderr",
     "output_type": "stream",
     "text": [
      "\r",
      "  0%|          | 0/2000 [00:00<?, ?it/s]"
     ]
    },
    {
     "name": "stdout",
     "output_type": "stream",
     "text": [
      "Total elapsed time: 228.70 minutes\n",
      "\n",
      "Epoch 32\n",
      "-------\n",
      "Training...\n"
     ]
    },
    {
     "name": "stderr",
     "output_type": "stream",
     "text": [
      "  0%|          | 0/100 [00:00<?, ?it/s]            "
     ]
    },
    {
     "name": "stdout",
     "output_type": "stream",
     "text": [
      "56 training episodes played.\n",
      "Results: mean: 323.3±84.1, min: 156.0, max: 604.0, RM size: 4000.0, loss: 661.0,\n",
      "\n",
      "Testing...\n"
     ]
    },
    {
     "name": "stderr",
     "output_type": "stream",
     "text": [
      "                                                 \r"
     ]
    },
    {
     "name": "stdout",
     "output_type": "stream",
     "text": [
      "Results: mean: 343.1±120.4, min: 156.0 max: 860.0\n",
      "Saving the network weigths to: /tmp/model.ckpt\n"
     ]
    },
    {
     "name": "stderr",
     "output_type": "stream",
     "text": [
      "\r",
      "  0%|          | 0/2000 [00:00<?, ?it/s]"
     ]
    },
    {
     "name": "stdout",
     "output_type": "stream",
     "text": [
      "Total elapsed time: 236.26 minutes\n",
      "\n",
      "Epoch 33\n",
      "-------\n",
      "Training...\n"
     ]
    },
    {
     "name": "stderr",
     "output_type": "stream",
     "text": [
      "  0%|          | 0/100 [00:00<?, ?it/s]            "
     ]
    },
    {
     "name": "stdout",
     "output_type": "stream",
     "text": [
      "47 training episodes played.\n",
      "Results: mean: 400.0±155.1, min: 156.0, max: 924.0, RM size: 6000.0, loss: 572.9,\n",
      "\n",
      "Testing...\n"
     ]
    },
    {
     "name": "stderr",
     "output_type": "stream",
     "text": [
      "                                                 \r"
     ]
    },
    {
     "name": "stdout",
     "output_type": "stream",
     "text": [
      "Results: mean: 347.4±113.0, min: 156.0 max: 668.0\n",
      "Saving the network weigths to: /tmp/model.ckpt\n"
     ]
    },
    {
     "name": "stderr",
     "output_type": "stream",
     "text": [
      "\r",
      "  0%|          | 0/2000 [00:00<?, ?it/s]"
     ]
    },
    {
     "name": "stdout",
     "output_type": "stream",
     "text": [
      "Total elapsed time: 244.22 minutes\n",
      "\n",
      "Epoch 34\n",
      "-------\n",
      "Training...\n"
     ]
    },
    {
     "name": "stderr",
     "output_type": "stream",
     "text": [
      "  0%|          | 0/100 [00:00<?, ?it/s]            "
     ]
    },
    {
     "name": "stdout",
     "output_type": "stream",
     "text": [
      "46 training episodes played.\n",
      "Results: mean: 410.9±212.6, min: 28.0, max: 1180.0, RM size: 8000.0, loss: 725.9,\n",
      "\n",
      "Testing...\n"
     ]
    },
    {
     "name": "stderr",
     "output_type": "stream",
     "text": [
      "                                                 \r"
     ]
    },
    {
     "name": "stdout",
     "output_type": "stream",
     "text": [
      "Results: mean: 396.2±175.6, min: 156.0 max: 1052.0\n",
      "Saving the network weigths to: /tmp/model.ckpt\n"
     ]
    },
    {
     "name": "stderr",
     "output_type": "stream",
     "text": [
      "\r",
      "  0%|          | 0/2000 [00:00<?, ?it/s]"
     ]
    },
    {
     "name": "stdout",
     "output_type": "stream",
     "text": [
      "Total elapsed time: 252.02 minutes\n",
      "\n",
      "Epoch 35\n",
      "-------\n",
      "Training...\n"
     ]
    },
    {
     "name": "stderr",
     "output_type": "stream",
     "text": [
      "  0%|          | 0/100 [00:00<?, ?it/s]            "
     ]
    },
    {
     "name": "stdout",
     "output_type": "stream",
     "text": [
      "47 training episodes played.\n",
      "Results: mean: 396.8±152.6, min: 156.0, max: 924.0, RM size: 0.0, loss: 829.3,\n",
      "\n",
      "Testing...\n"
     ]
    },
    {
     "name": "stderr",
     "output_type": "stream",
     "text": [
      "                                                 \r"
     ]
    },
    {
     "name": "stdout",
     "output_type": "stream",
     "text": [
      "Results: mean: 334.2±78.9, min: 156.0 max: 572.0\n",
      "Saving the network weigths to: /tmp/model.ckpt\n"
     ]
    },
    {
     "name": "stderr",
     "output_type": "stream",
     "text": [
      "  0%|          | 1/2000 [00:00<06:29,  5.14it/s]"
     ]
    },
    {
     "name": "stdout",
     "output_type": "stream",
     "text": [
      "Total elapsed time: 259.58 minutes\n",
      "\n",
      "Epoch 36\n",
      "-------\n",
      "Training...\n"
     ]
    },
    {
     "name": "stderr",
     "output_type": "stream",
     "text": [
      "  0%|          | 0/100 [00:00<?, ?it/s]            "
     ]
    },
    {
     "name": "stdout",
     "output_type": "stream",
     "text": [
      "51 training episodes played.\n",
      "Results: mean: 364.2±129.1, min: 156.0, max: 636.0, RM size: 2000.0, loss: 851.8,\n",
      "\n",
      "Testing...\n"
     ]
    },
    {
     "name": "stderr",
     "output_type": "stream",
     "text": [
      "                                                 \r"
     ]
    },
    {
     "name": "stdout",
     "output_type": "stream",
     "text": [
      "Results: mean: 380.0±148.5, min: 95.0 max: 892.0\n",
      "Saving the network weigths to: /tmp/model.ckpt\n"
     ]
    },
    {
     "name": "stderr",
     "output_type": "stream",
     "text": [
      "\r",
      "  0%|          | 0/2000 [00:00<?, ?it/s]"
     ]
    },
    {
     "name": "stdout",
     "output_type": "stream",
     "text": [
      "Total elapsed time: 267.59 minutes\n",
      "\n",
      "Epoch 37\n",
      "-------\n",
      "Training...\n"
     ]
    },
    {
     "name": "stderr",
     "output_type": "stream",
     "text": [
      "  0%|          | 0/100 [00:00<?, ?it/s]            "
     ]
    },
    {
     "name": "stdout",
     "output_type": "stream",
     "text": [
      "49 training episodes played.\n",
      "Results: mean: 382.9±126.0, min: 156.0, max: 700.0, RM size: 4000.0, loss: 739.9,\n",
      "\n",
      "Testing...\n"
     ]
    },
    {
     "name": "stderr",
     "output_type": "stream",
     "text": [
      "                                                 \r"
     ]
    },
    {
     "name": "stdout",
     "output_type": "stream",
     "text": [
      "Results: mean: 332.4±97.7, min: 113.0 max: 668.0\n",
      "Saving the network weigths to: /tmp/model.ckpt\n"
     ]
    },
    {
     "name": "stderr",
     "output_type": "stream",
     "text": [
      "\r",
      "  0%|          | 0/2000 [00:00<?, ?it/s]"
     ]
    },
    {
     "name": "stdout",
     "output_type": "stream",
     "text": [
      "Total elapsed time: 275.26 minutes\n",
      "\n",
      "Epoch 38\n",
      "-------\n",
      "Training...\n"
     ]
    },
    {
     "name": "stderr",
     "output_type": "stream",
     "text": [
      "  0%|          | 0/100 [00:00<?, ?it/s]            "
     ]
    },
    {
     "name": "stdout",
     "output_type": "stream",
     "text": [
      "51 training episodes played.\n",
      "Results: mean: 353.4±84.6, min: 156.0, max: 643.0, RM size: 6000.0, loss: 639.3,\n",
      "\n",
      "Testing...\n"
     ]
    },
    {
     "name": "stderr",
     "output_type": "stream",
     "text": [
      "                                                 \r"
     ]
    },
    {
     "name": "stdout",
     "output_type": "stream",
     "text": [
      "Results: mean: 378.9±164.3, min: 124.0 max: 1116.0\n",
      "Saving the network weigths to: /tmp/model.ckpt\n"
     ]
    },
    {
     "name": "stderr",
     "output_type": "stream",
     "text": [
      "\r",
      "  0%|          | 0/2000 [00:00<?, ?it/s]"
     ]
    },
    {
     "name": "stdout",
     "output_type": "stream",
     "text": [
      "Total elapsed time: 282.93 minutes\n",
      "\n",
      "Epoch 39\n",
      "-------\n",
      "Training...\n"
     ]
    },
    {
     "name": "stderr",
     "output_type": "stream",
     "text": [
      "  0%|          | 0/100 [00:00<?, ?it/s]            "
     ]
    },
    {
     "name": "stdout",
     "output_type": "stream",
     "text": [
      "49 training episodes played.\n",
      "Results: mean: 376.4±136.0, min: 156.0, max: 732.0, RM size: 8000.0, loss: 630.3,\n",
      "\n",
      "Testing...\n"
     ]
    },
    {
     "name": "stderr",
     "output_type": "stream",
     "text": [
      "                                                 \r"
     ]
    },
    {
     "name": "stdout",
     "output_type": "stream",
     "text": [
      "Results: mean: 384.8±150.1, min: 156.0 max: 1084.0\n",
      "Saving the network weigths to: /tmp/model.ckpt\n"
     ]
    },
    {
     "name": "stderr",
     "output_type": "stream",
     "text": [
      "\r",
      "  0%|          | 0/2000 [00:00<?, ?it/s]"
     ]
    },
    {
     "name": "stdout",
     "output_type": "stream",
     "text": [
      "Total elapsed time: 290.92 minutes\n",
      "\n",
      "Epoch 40\n",
      "-------\n",
      "Training...\n"
     ]
    },
    {
     "name": "stderr",
     "output_type": "stream",
     "text": [
      "  0%|          | 0/100 [00:00<?, ?it/s]            "
     ]
    },
    {
     "name": "stdout",
     "output_type": "stream",
     "text": [
      "50 training episodes played.\n",
      "Results: mean: 367.9±128.3, min: 156.0, max: 732.0, RM size: 0.0, loss: 834.8,\n",
      "\n",
      "Testing...\n"
     ]
    },
    {
     "name": "stderr",
     "output_type": "stream",
     "text": [
      "                                                 \r"
     ]
    },
    {
     "name": "stdout",
     "output_type": "stream",
     "text": [
      "Results: mean: 376.7±137.8, min: 60.0 max: 1020.0\n",
      "Saving the network weigths to: /tmp/model.ckpt\n",
      "Total elapsed time: 298.76 minutes\n",
      "======================================\n",
      "Training finished\n"
     ]
    },
    {
     "data": {
      "image/png": "[encoded data removed]",
      "text/plain": [
       "<matplotlib.figure.Figure at 0x7f8407fe7fd0>"
      ]
     },
     "metadata": {},
     "output_type": "display_data"
    },
    {
     "data": {
      "image/png": "[encoded data removed]",
      "text/plain": [
       "<matplotlib.figure.Figure at 0x7f8451aefb70>"
      ]
     },
     "metadata": {},
     "output_type": "display_data"
    },
    {
     "name": "stdout",
     "output_type": "stream",
     "text": [
      "Total score:  397.0\n",
      "Total score:  268.0\n",
      "Total score:  429.0\n",
      "Total score:  499.0\n",
      "Total score:  277.0\n",
      "Total score:  341.0\n",
      "Total score:  341.0\n",
      "Total score:  342.0\n",
      "Total score:  401.0\n",
      "Total score:  656.0\n"
     ]
    },
    {
     "data": {
      "text/plain": [
       "<matplotlib.figure.Figure at 0x7f840ef62eb8>"
      ]
     },
     "metadata": {},
     "output_type": "display_data"
    }
   ],
   "source": [
    "# MAIN PROGRAM - A HIGH LEVEL LOGICAL VIEW OF THIS PROGRAM IS AVAILABLE IN MY REPORT \n",
    "\n",
    "# Create Doom instance\n",
    "game = initialize_vizdoom(config_file_path)\n",
    "\n",
    "# Action = which buttons/actions can be selected by the agent\n",
    "n = game.get_available_buttons_size()\n",
    "actions = [list(a) for a in it.product([0, 1], repeat=n)]\n",
    "\n",
    "# Create replay memory storing the transitions\n",
    "memory = ReplayMemory(capacity=replay_memory_size)\n",
    "\n",
    "# Create tf session\n",
    "session = tf.Session()\n",
    "\n",
    "# The three routines made available at network creation\n",
    "learn, get_q_values, get_best_action = create_network(session, len(actions))\n",
    "saver = tf.train.Saver()\n",
    "if load_model:\n",
    "    print(\"Loading model from: \", model_savefile)\n",
    "    saver.restore(session, model_savefile)\n",
    "else:\n",
    "    init = tf.global_variables_initializer()\n",
    "    session.run(init)\n",
    "\n",
    "print(\"Starting with training!\")\n",
    "\n",
    "time_start = time()\n",
    "\n",
    "if not skip_learning:\n",
    "    for epoch in range(epochs):                               # the epoch loop\n",
    "        print(\"\\nEpoch %d\\n-------\" % (epoch + 1))\n",
    "        train_episodes_finished = 0\n",
    "        train_scores = []\n",
    "\n",
    "        print(\"Training...\")\n",
    "        game.new_episode()\n",
    "        for learning_step in trange(learning_steps_per_epoch, leave=False): # the learning_step loop\n",
    "            perform_learning_step(epoch, learning_step)\n",
    "            if game.is_episode_finished():\n",
    "                score = game.get_total_reward()\n",
    "                train_scores.append(score)\n",
    "                game.new_episode()\n",
    "                train_episodes_finished += 1\n",
    "\n",
    "        print(\"%d training episodes played.\" % train_episodes_finished)\n",
    "        train_scores = np.array(train_scores)\n",
    "        \n",
    "        k = 0\n",
    "        k = epoch+1     # we store the mean (over one epoch) of the computed loss at each epoch\n",
    "        globals()['l_'+str(k)] = np.mean(globals()['loss_epoch_'+str(k)], axis=0)[1]\n",
    "        epoch_loss = globals()['l_'+str(k)]\n",
    "        \n",
    "        print(\"Results: mean: %.1f±%.1f,\" % (train_scores.mean(), train_scores.std()), \\\n",
    "                  \"min: %.1f,\" % train_scores.min(), \"max: %.1f,\" % train_scores.max(),  \\\n",
    "                  \"RM size: %.1f,\" % memory.get_current_size(), \"loss: %.1f,\" % epoch_loss)\n",
    "                    \n",
    "        scoring_array[epoch,0] = epoch+1\n",
    "        scoring_array[epoch,1] = train_scores.mean()\n",
    "\n",
    "                   \n",
    "        print(\"\\nTesting...\")\n",
    "        test_episode = []\n",
    "        test_scores = []\n",
    "        for test_episode in trange(test_episodes_per_epoch, leave=False):\n",
    "            game.new_episode()\n",
    "            while not game.is_episode_finished():\n",
    "                bidule = game.get_state().screen_buffer  # to display a given state, otherwise not used\n",
    "                state = preprocess(bidule)\n",
    "                \n",
    "                # to display a given state\n",
    "                '''if ((epoch == 0) & (test_episode == 1)):\n",
    "                    plt.plot(bidule) \n",
    "                    plt.title('this is what a frame looks like')\n",
    "                    plt.imshow(bidule)\n",
    "                    plt.savefig('../../pictures/frame_HG_1.png', dpi = 300)\n",
    "                    plt.gcf().clear()\n",
    "                    plt.plot(state) \n",
    "                    plt.title('this is what a state looks like')\n",
    "                    plt.imshow(state)\n",
    "                    plt.savefig('../../pictures/state_HG_1.png', dpi = 300)\n",
    "                    plt.gcf().clear()'''\n",
    "                               \n",
    "                best_action_index = get_best_action(state)\n",
    "                game.make_action(actions[best_action_index], frame_repeat)\n",
    "            r = game.get_total_reward()\n",
    "            test_scores.append(r)\n",
    "\n",
    "        test_scores = np.array(test_scores)\n",
    "        print(\"Results: mean: %.1f±%.1f,\" % (test_scores.mean(), test_scores.std()), \"min: %.1f\" % test_scores.min(),\n",
    "                  \"max: %.1f\" % test_scores.max())\n",
    "        \n",
    "        scoring_array[epoch,2] = test_scores.mean()\n",
    "              \n",
    "        print(\"Saving the network weigths to:\", model_savefile)\n",
    "        saver.save(session, model_savefile)\n",
    "        \n",
    "        print(\"Total elapsed time: %.2f minutes\" % ((time() - time_start) / 60.0))\n",
    "               \n",
    "game.close()\n",
    "\n",
    "print(\"======================================\")\n",
    "print(\"Training finished\")\n",
    "\n",
    "# we display the results with matplotlib - training then testing\n",
    "plt.plot(scoring_array[:,0], scoring_array[:,1], 'r--',scoring_array[:,0], scoring_array[:,2], 'b--') \n",
    "plt.title('training & testing results')\n",
    "plt.ylabel('results')\n",
    "plt.xlabel('epochs')\n",
    "plt.legend(['training', 'testing'], loc='upper left')\n",
    "plt.show()\n",
    "plt.savefig('../../pictures/training_testing.png', dpi = 300)\n",
    "plt.gcf().clear()\n",
    "\n",
    "# we visualize the averaged loss for all epochs\n",
    "for i in range(epochs):\n",
    "    i += 1\n",
    "    # globals()['l_'+str(i)] = np.mean(globals()['loss_epoch_'+str(i)], axis=0)[1]\n",
    "    plt.plot(i,globals()['l_'+str(i)],'go')\n",
    "plt.title('evolution of the loss function over all epochs')\n",
    "plt.ylabel('epoch-averaged loss function')\n",
    "plt.xlabel('epochs')\n",
    "plt.legend(['epoch-averaged loss function'], loc='upper left')\n",
    "plt.show()\n",
    "plt.savefig('../../pictures/loss_all_epochs.png', dpi = 300)\n",
    "plt.gcf().clear()\n",
    "\n",
    "# Reinitialize the game with window visible\n",
    "game.set_window_visible(True)\n",
    "game.set_mode(Mode.ASYNC_PLAYER)\n",
    "game.init()\n",
    "\n",
    "for _ in range(episodes_to_watch):\n",
    "    game.new_episode()\n",
    "    while not game.is_episode_finished():\n",
    "        state = preprocess(game.get_state().screen_buffer)\n",
    "        best_action_index = get_best_action(state)\n",
    "\n",
    "        # Instead of make_action(a, frame_repeat) in order to make the animation smooth\n",
    "        game.set_action(actions[best_action_index])\n",
    "        for _ in range(frame_repeat):\n",
    "            game.advance_action()\n",
    "\n",
    "    # Sleep between episodes\n",
    "    sleep(1.0)\n",
    "    score = game.get_total_reward()\n",
    "    print(\"Total score: \", score)    "
   ]
  },
  {
   "cell_type": "code",
   "execution_count": 13,
   "metadata": {},
   "outputs": [
    {
     "data": {
      "image/png": "[encoded data removed]",
      "text/plain": [
       "<matplotlib.figure.Figure at 0x7f83fc3d8eb8>"
      ]
     },
     "metadata": {},
     "output_type": "display_data"
    },
    {
     "data": {
      "text/plain": [
       "<matplotlib.figure.Figure at 0x7f83fc3d0d30>"
      ]
     },
     "metadata": {},
     "output_type": "display_data"
    }
   ],
   "source": [
    "# scale change for function loss\n",
    "# we display the last 20 epochs\n",
    "\n",
    "for k in range(21, epochs):\n",
    "    plt.plot(k,globals()['l_'+str(k)],'go')\n",
    "plt.title('evolution of the loss function over the last 20 epochs')\n",
    "plt.ylabel('epoch-averaged loss function')\n",
    "plt.xlabel('epochs')\n",
    "plt.legend(['epoch-averaged loss function'], loc='upper left')\n",
    "plt.show()\n",
    "# plt.savefig('../../pictures/loss_all_epochs.png', dpi = 300)\n",
    "plt.gcf().clear()\n"
   ]
  }
 ],
 "metadata": {
  "kernelspec": {
   "display_name": "Python 3",
   "language": "python",
   "name": "python3"
  },
  "language_info": {
   "codemirror_mode": {
    "name": "ipython",
    "version": 3
   },
   "file_extension": ".py",
   "mimetype": "text/x-python",
   "name": "python",
   "nbconvert_exporter": "python",
   "pygments_lexer": "ipython3",
   "version": "3.5.2"
  }
 },
 "nbformat": 4,
 "nbformat_minor": 2
}
